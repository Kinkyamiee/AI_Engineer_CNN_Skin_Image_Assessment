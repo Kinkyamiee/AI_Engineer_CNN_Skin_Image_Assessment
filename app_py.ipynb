{
  "nbformat": 4,
  "nbformat_minor": 0,
  "metadata": {
    "colab": {
      "provenance": [],
      "authorship_tag": "ABX9TyOCDKR/YuXDRmMMw8Ddg93W",
      "include_colab_link": true
    },
    "kernelspec": {
      "name": "python3",
      "display_name": "Python 3"
    },
    "language_info": {
      "name": "python"
    }
  },
  "cells": [
    {
      "cell_type": "markdown",
      "metadata": {
        "id": "view-in-github",
        "colab_type": "text"
      },
      "source": [
        "<a href=\"https://colab.research.google.com/github/Kinkyamiee/AI_Engineer_CNN_Skin_Image_Assessment/blob/main/app_py.ipynb\" target=\"_parent\"><img src=\"https://colab.research.google.com/assets/colab-badge.svg\" alt=\"Open In Colab\"/></a>"
      ]
    },
    {
      "cell_type": "code",
      "execution_count": 6,
      "metadata": {
        "colab": {
          "base_uri": "https://localhost:8080/"
        },
        "id": "xIUPzg8e1Xlo",
        "outputId": "acc52bec-2d4d-460d-db86-913efaa89047"
      },
      "outputs": [
        {
          "output_type": "stream",
          "name": "stdout",
          "text": [
            "Overwriting app.py\n"
          ]
        }
      ],
      "source": [
        "%%writefile app.py\n",
        "import streamlit as st\n",
        "import tensorflow as tf\n",
        "from tensorflow.keras.preprocessing import image\n",
        "import numpy as np\n",
        "from PIL import Image\n",
        "\n",
        "# Load model and class names\n",
        "model = tf.keras.models.load_model('best_efficientnet.keras', custom_objects={\n",
        "    'preprocess_input': tf.keras.applications.efficientnet.preprocess_input\n",
        "})\n",
        "class_names = ['acne', 'cancer', 'eczema', 'keratosis', 'milia', 'rosacea']\n",
        "\n",
        "st.title(\"🩺 Skin Condition Classifier\")\n",
        "st.markdown(\"Upload a skin image and get the predicted condition.\")\n",
        "\n",
        "uploaded_file = st.file_uploader(\"Choose an image...\", type=[\"jpg\", \"jpeg\", \"png\"])\n",
        "\n",
        "if uploaded_file is not None:\n",
        "    img = Image.open(uploaded_file).convert('RGB')\n",
        "    st.image(img, caption='Uploaded Image', use_column_width=True)\n",
        "\n",
        "    # Preprocess image\n",
        "    img = img.resize((224, 224))\n",
        "    img_array = image.img_to_array(img)\n",
        "    img_array = tf.keras.applications.efficientnet.preprocess_input(img_array)\n",
        "    img_array = tf.expand_dims(img_array, 0)\n",
        "\n",
        "        # Predict\n",
        "    prediction = model.predict(img_array)\n",
        "    predicted_class = class_names[np.argmax(prediction)]\n",
        "    confidence = np.max(tf.nn.softmax(prediction)) * 100\n",
        "\n",
        "    # Output\n",
        "    st.subheader(\"🔍 Prediction:\")\n",
        "    st.markdown(f\"**{predicted_class.upper()}** with **{confidence:.2f}%** confidence\")\n",
        "\n",
        "    # Top 3 predictions\n",
        "    st.subheader(\"📊 Top 3 Predictions:\")\n",
        "    sorted_indices = np.argsort(prediction[0])[::-1][:3]\n",
        "    for i in sorted_indices:\n",
        "        st.markdown(f\"- {class_names[i]}: {prediction[0][i]*100:.2f}%\")\n"
      ]
    },
    {
      "cell_type": "code",
      "source": [
        "from google.colab import files\n",
        "files.download(\"app.py\")\n"
      ],
      "metadata": {
        "colab": {
          "base_uri": "https://localhost:8080/",
          "height": 17
        },
        "id": "urcRAiXXFjfK",
        "outputId": "8eaf7547-b5cb-49bb-d99e-211d7edb2720"
      },
      "execution_count": 7,
      "outputs": [
        {
          "output_type": "display_data",
          "data": {
            "text/plain": [
              "<IPython.core.display.Javascript object>"
            ],
            "application/javascript": [
              "\n",
              "    async function download(id, filename, size) {\n",
              "      if (!google.colab.kernel.accessAllowed) {\n",
              "        return;\n",
              "      }\n",
              "      const div = document.createElement('div');\n",
              "      const label = document.createElement('label');\n",
              "      label.textContent = `Downloading \"${filename}\": `;\n",
              "      div.appendChild(label);\n",
              "      const progress = document.createElement('progress');\n",
              "      progress.max = size;\n",
              "      div.appendChild(progress);\n",
              "      document.body.appendChild(div);\n",
              "\n",
              "      const buffers = [];\n",
              "      let downloaded = 0;\n",
              "\n",
              "      const channel = await google.colab.kernel.comms.open(id);\n",
              "      // Send a message to notify the kernel that we're ready.\n",
              "      channel.send({})\n",
              "\n",
              "      for await (const message of channel.messages) {\n",
              "        // Send a message to notify the kernel that we're ready.\n",
              "        channel.send({})\n",
              "        if (message.buffers) {\n",
              "          for (const buffer of message.buffers) {\n",
              "            buffers.push(buffer);\n",
              "            downloaded += buffer.byteLength;\n",
              "            progress.value = downloaded;\n",
              "          }\n",
              "        }\n",
              "      }\n",
              "      const blob = new Blob(buffers, {type: 'application/binary'});\n",
              "      const a = document.createElement('a');\n",
              "      a.href = window.URL.createObjectURL(blob);\n",
              "      a.download = filename;\n",
              "      div.appendChild(a);\n",
              "      a.click();\n",
              "      div.remove();\n",
              "    }\n",
              "  "
            ]
          },
          "metadata": {}
        },
        {
          "output_type": "display_data",
          "data": {
            "text/plain": [
              "<IPython.core.display.Javascript object>"
            ],
            "application/javascript": [
              "download(\"download_38120f38-f498-46ce-986d-06819218e807\", \"app.py\", 1509)"
            ]
          },
          "metadata": {}
        }
      ]
    }
  ]
}